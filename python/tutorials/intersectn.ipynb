{
 "cells": [
  {
   "cell_type": "code",
   "execution_count": 1,
   "metadata": {},
   "outputs": [
    {
     "ename": "NameError",
     "evalue": "name 'cm' is not defined",
     "output_type": "error",
     "traceback": [
      "\u001b[1;31m---------------------------------------------------------------------------\u001b[0m",
      "\u001b[1;31mNameError\u001b[0m                                 Traceback (most recent call last)",
      "Cell \u001b[1;32mIn[1], line 19\u001b[0m\n\u001b[0;32m     16\u001b[0m s \u001b[38;5;241m=\u001b[39m pe\u001b[38;5;241m.\u001b[39mrtcNewScene(d)\n\u001b[0;32m     18\u001b[0m \u001b[38;5;66;03m# We crate two triangles\u001b[39;00m\n\u001b[1;32m---> 19\u001b[0m \u001b[43mcm\u001b[49m\u001b[38;5;241m.\u001b[39mcreate_triangle(d, s)\n\u001b[0;32m     20\u001b[0m cm\u001b[38;5;241m.\u001b[39mcreate_triangle(d, s, \u001b[38;5;241m3\u001b[39m)\n\u001b[0;32m     21\u001b[0m pe\u001b[38;5;241m.\u001b[39mrtcCommitScene(s)\n",
      "\u001b[1;31mNameError\u001b[0m: name 'cm' is not defined"
     ]
    }
   ],
   "source": [
    "# We setup an embree device and scene as we did in the minimal tutorial\n",
    "# We also declare some helper functions to create geometry, rays and output intersection results, see the minimal tutorial for more information on this\n",
    "#from common import create_triangle, create_ray, print_hit\n",
    "\n",
    "import pyrootutils\n",
    "import os\n",
    "pyrootutils.setup_root(os.getcwd(), indicator=\"CMakeLists.txt\", pythonpath=True)\n",
    "\n",
    "from tutorials.common import create_triangle, create_ray, print_hit\n",
    "\n",
    "import pyembree as pe\n",
    "import ctypes\n",
    "import numpy as np\n",
    "\n",
    "d = pe.rtcNewDevice(None)\n",
    "s = pe.rtcNewScene(d)\n",
    "\n",
    "# We crate two triangles\n",
    "create_triangle(d, s)\n",
    "create_triangle(d, s, 3)\n",
    "pe.rtcCommitScene(s)"
   ]
  },
  {
   "cell_type": "code",
   "execution_count": 21,
   "metadata": {},
   "outputs": [
    {
     "name": "stdout",
     "output_type": "stream",
     "text": [
      "Ray (0.33, 0.33, -1.00) -> (0.00, 0.00, 1.00):  Found intersection on geometry 0, primitive 0 at tfar=1.0\n",
      "Ray (1.00, 1.00, -1.00) -> (0.00, 0.00, 1.00):  Did not find any intersection\n",
      "Ray (3.33, 0.33, -1.00) -> (0.00, 0.00, 1.00):  Found intersection on geometry 1, primitive 0 at tfar=1.0\n",
      "Ray (4.00, 1.00, -1.00) -> (0.00, 0.00, 1.00):  Did not find any intersection\n"
     ]
    }
   ],
   "source": [
    "# Collect rays in a python list\n",
    "rayhits = [create_ray(0.33, 0.33, -1, 0, 0, 1), create_ray(1.00, 1.00, -1, 0, 0, 1), create_ray(3.33, 0.33, -1, 0, 0, 1), create_ray(4, 1, -1, 0, 0, 1)]\n",
    "# Intersect all rays in the list.\n",
    "# Intersection calls are done in parallel, we can define the number of threads used in the last function argument. 0 will use the maximum of the hardware capabilities.\n",
    "pe.rtcIntersectN(s, rayhits, None, 0)\n",
    "for rh in rayhits:\n",
    "  print_hit(rh)\n",
    "\n",
    "pe.rtcReleaseScene(s)\n",
    "pe.rtcReleaseDevice(d)"
   ]
  }
 ],
 "metadata": {
  "kernelspec": {
   "display_name": "Python 3 (ipykernel)",
   "language": "python",
   "name": "python3"
  },
  "language_info": {
   "codemirror_mode": {
    "name": "ipython",
    "version": 3
   },
   "file_extension": ".py",
   "mimetype": "text/x-python",
   "name": "python",
   "nbconvert_exporter": "python",
   "pygments_lexer": "ipython3",
   "version": "3.11.8"
  }
 },
 "nbformat": 4,
 "nbformat_minor": 4
}
