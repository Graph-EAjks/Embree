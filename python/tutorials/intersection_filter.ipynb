{
 "cells": [
  {
   "cell_type": "code",
   "execution_count": 3,
   "metadata": {},
   "outputs": [
    {
     "ename": "ModuleNotFoundError",
     "evalue": "No module named 'common'",
     "output_type": "error",
     "traceback": [
      "\u001b[1;31m---------------------------------------------------------------------------\u001b[0m",
      "\u001b[1;31mModuleNotFoundError\u001b[0m                       Traceback (most recent call last)",
      "Cell \u001b[1;32mIn[3], line 3\u001b[0m\n\u001b[0;32m      1\u001b[0m \u001b[38;5;66;03m# We setup an embree device and scene as we did in the minimal tutorial\u001b[39;00m\n\u001b[0;32m      2\u001b[0m \u001b[38;5;66;03m# We also declare some helper functions to create geometry, rays and output intersection results\u001b[39;00m\n\u001b[1;32m----> 3\u001b[0m \u001b[38;5;28;01mimport\u001b[39;00m \u001b[38;5;21;01mcommon\u001b[39;00m\n\u001b[0;32m      4\u001b[0m \u001b[38;5;28;01mimport\u001b[39;00m \u001b[38;5;21;01mpyembree\u001b[39;00m \u001b[38;5;28;01mas\u001b[39;00m \u001b[38;5;21;01mpe\u001b[39;00m\n\u001b[0;32m      5\u001b[0m \u001b[38;5;28;01mimport\u001b[39;00m \u001b[38;5;21;01mctypes\u001b[39;00m\n",
      "\u001b[1;31mModuleNotFoundError\u001b[0m: No module named 'common'"
     ]
    }
   ],
   "source": [
    "# We setup an embree device and scene as we did in the minimal tutorial\n",
    "# We also declare some helper functions to create geometry, rays and output intersection results, see the minimal tutorial for more information on this\n",
    "from common import create_triangle, create_ray, print_hit\n",
    "import pyembree as pe\n",
    "import ctypes\n",
    "import numpy as np\n",
    "\n",
    "d = pe.rtcNewDevice(None)\n",
    "s = pe.rtcNewScene(d)\n",
    "\n",
    "# We crate two triangles\n",
    "create_triangle(s)\n",
    "create_triangle(s, 3)\n",
    "pe.rtcCommitScene(s)"
   ]
  },
  {
   "cell_type": "code",
   "execution_count": null,
   "metadata": {},
   "outputs": [],
   "source": [
    "def intersect_filter(args):\n",
    "  print(\"Hello World from intersect!\")\n",
    "\n",
    "will_hit = create_ray(0.33, 0.33, -1, 0, 0, 1)\n",
    "wont_hit = create_ray(1.00, 1.00, -1, 0, 0, 1)\n",
    "\n",
    "intersect_args = pe.RTCIntersectArguments()\n",
    "intersect_args.flags = pe.RTC_RAY_QUERY_FLAG_INVOKE_ARGUMENT_FILTER\n",
    "intersect_args.filter = intersect_filter\n",
    "\n",
    "pe.rtcIntersect1(s, will_hit, intersect_args)\n",
    "pe.rtcIntersect1(s, wont_hit, intersect_args)\n",
    "print_hit(will_hit)\n",
    "print_hit(wont_hit)\n",
    "\n",
    "pe.rtcReleaseScene(s)\n",
    "pe.rtcReleaseDevice(d)"
   ]
  }
 ],
 "metadata": {
  "kernelspec": {
   "display_name": "Python 3 (ipykernel)",
   "language": "python",
   "name": "python3"
  }
 },
 "nbformat": 4,
 "nbformat_minor": 2
}
