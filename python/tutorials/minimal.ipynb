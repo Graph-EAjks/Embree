{
 "cells": [
  {
   "cell_type": "code",
   "execution_count": 1,
   "metadata": {},
   "outputs": [],
   "source": [
    "# import pyembree\n",
    "# make sure that the path with pyembree binaries is added to the $PYTHONPATH environment variable\n",
    "import pyembree as pe\n",
    "import ctypes\n",
    "\n",
    "# We first create several Embree objects:\n",
    "#  * an embree device with a default configuration (see sec. 5.1 and 7.1 in the documention for details)\n",
    "#  * an embree scene to hold our geometry\n",
    "d = pe.rtcNewDevice(None)\n",
    "s = pe.rtcNewScene(d)"
   ]
  },
  {
   "cell_type": "code",
   "execution_count": 2,
   "metadata": {},
   "outputs": [],
   "source": [
    "# A scene is a collection of geometry objects. Scenes are what the intersect / occluded API functions work on. \n",
    "# You can think of a scene as an acceleration structure, e.g. a bounding-volume hierarchy.\n",
    "#\n",
    "# Next, we instruct Embree to create vertex and index buffers into which we copy the geomety data. \n",
    "# For complex scenes, shared buffers are often better choice but special care must be taken to ensure proper alignment and padding. \n",
    "# This is described in more detail in the API documentation.\n",
    "g = pe.rtcNewGeometry(d, pe.RTC_GEOMETRY_TYPE_TRIANGLE)\n",
    "vertices = pe.rtcSetNewGeometryBuffer(g, pe.RTC_BUFFER_TYPE_VERTEX, 0, pe.RTC_FORMAT_FLOAT3, 3*ctypes.sizeof(ctypes.c_float), 3).as_float()\n",
    "indices = pe.rtcSetNewGeometryBuffer(g, pe.RTC_BUFFER_TYPE_INDEX, 0, pe.RTC_FORMAT_UINT3, 3*ctypes.sizeof(ctypes.c_uint), 1).as_uint()\n",
    "vertices[0] = 0.0\n",
    "vertices[1] = 0.0\n",
    "vertices[2] = 0.0\n",
    "vertices[3] = 1.0\n",
    "vertices[4] = 0.0\n",
    "vertices[5] = 0.0\n",
    "vertices[6] = 0.0\n",
    "vertices[7] = 1.0\n",
    "vertices[8] = 0.0\n",
    "indices[0] = 0\n",
    "indices[1] = 1\n",
    "indices[2] = 2"
   ]
  },
  {
   "cell_type": "code",
   "execution_count": 3,
   "metadata": {},
   "outputs": [],
   "source": [
    "# After setting the geometry data the geometry can be committed and attached to the scene. \n",
    "# Embree objects such as RTCDevice, RTCScene and RTCGeometry are reference-counted. \n",
    "# This means, that the scene takes ownership of the geometry when we attach it and we can release the geometry handle. \n",
    "# The API function rtcAttachGeometry returns a geometry ID which can be used identify intersected objects when the scene contains multiple geometry objects. \n",
    "# We finish the setup by committing the scene, after which the scene can be intersected.\n",
    "pe.rtcCommitGeometry(g)\n",
    "pe.rtcAttachGeometry(s, g)\n",
    "pe.rtcReleaseGeometry(g)\n",
    "    \n",
    "pe.rtcCommitScene(s)"
   ]
  },
  {
   "cell_type": "code",
   "execution_count": 4,
   "metadata": {},
   "outputs": [],
   "source": [
    "# To perform a ray intersect, we obviously have to create a ray first. \n",
    "# Embree also expects an intersection context which can be used for advanced features such as intersection filters and instancing.\n",
    "def create_ray(ox, oy, oz, dx, dy, dz):\n",
    "    rayhit = pe.RTCRayHit()\n",
    "    rayhit.ray.org_x = ox\n",
    "    rayhit.ray.org_y = oy\n",
    "    rayhit.ray.org_z = oz\n",
    "    rayhit.ray.dir_x = dx\n",
    "    rayhit.ray.dir_y = dy\n",
    "    rayhit.ray.dir_z = dz\n",
    "    # We set the ray values tnear to 0 and tfar to infinity to indicate that the ray starts at origin (org_x, org_y, org_z) and is unbounded. \n",
    "    rayhit.ray.tnear = 0\n",
    "    rayhit.ray.tfar = float('inf')\n",
    "    rayhit.ray.mask = 0xffffffff\n",
    "    rayhit.ray.flags = 0\n",
    "    # We also set geomID to RTC_INVALID_GEOMETRY_ID. \n",
    "    rayhit.hit.geomID = pe.RTC_INVALID_GEOMETRY_ID\n",
    "    rayhit.hit.instID[0] = pe.RTC_INVALID_GEOMETRY_ID\n",
    "    return rayhit\n",
    "\n",
    "will_hit = create_ray(0.33, 0.33, -1, 0, 0, 1)\n",
    "wont_hit = create_ray(1, 1, -1, 0, 0, 1)"
   ]
  },
  {
   "cell_type": "code",
   "execution_count": 5,
   "metadata": {},
   "outputs": [],
   "source": [
    "# Now we can call Embree's intersect function and check if the ray intersects the triangle.\n",
    "pe.rtcIntersect1(s, will_hit, None)\n",
    "pe.rtcIntersect1(s, wont_hit, None)"
   ]
  },
  {
   "cell_type": "code",
   "execution_count": 6,
   "metadata": {},
   "outputs": [
    {
     "name": "stdout",
     "output_type": "stream",
     "text": [
      "Ray (0.33000001311302185, 0.33000001311302185, -1.0) -> (0.0, 0.0, 1.0):  Found intersection on geometry 0, primitive 0 at tfar=1.0\n",
      "Ray (1.0, 1.0, -1.0) -> (0.0, 0.0, 1.0):  Did not find any intersection\n"
     ]
    }
   ],
   "source": [
    "# We can read out the results now:\n",
    "# If an intersection occured\n",
    "#   * geomID will contain the ID of the geometry that has been intersected. \n",
    "#   * the value tfar will contain the ray parameter which we can compute the point at which the ray and triangle intersect as (org_x, org_y, org_z) + t * (dir_x, dir_y, dir_z).\n",
    "def print_hit(rayhit):\n",
    "    if rayhit.hit.geomID != pe.RTC_INVALID_GEOMETRY_ID:\n",
    "        print(f\"Ray ({rayhit.ray.org_x}, {rayhit.ray.org_y}, {rayhit.ray.org_z}) -> ({rayhit.ray.dir_x}, {rayhit.ray.dir_y}, {rayhit.ray.dir_z}):  Found intersection on geometry {rayhit.hit.geomID}, primitive {rayhit.hit.primID} at tfar={rayhit.ray.tfar}\")\n",
    "    else:\n",
    "        print(f\"Ray ({rayhit.ray.org_x}, {rayhit.ray.org_y}, {rayhit.ray.org_z}) -> ({rayhit.ray.dir_x}, {rayhit.ray.dir_y}, {rayhit.ray.dir_z}):  Did not find any intersection\")\n",
    "\n",
    "print_hit(will_hit)\n",
    "print_hit(wont_hit)"
   ]
  },
  {
   "cell_type": "code",
   "execution_count": 7,
   "metadata": {},
   "outputs": [],
   "source": [
    "# At the end of an application all resources that where allocated through Embree should be released. \n",
    "# Note that the geometry will be released automatically, when the (last) scene the geometry is attached to is released.\n",
    "pe.rtcReleaseScene(s)\n",
    "pe.rtcReleaseDevice(d)"
   ]
  },
  {
   "cell_type": "code",
   "execution_count": null,
   "metadata": {},
   "outputs": [],
   "source": []
  }
 ],
 "metadata": {
  "kernelspec": {
   "display_name": "Python 3 (ipykernel)",
   "language": "python",
   "name": "python3"
  },
  "language_info": {
   "codemirror_mode": {
    "name": "ipython",
    "version": 3
   },
   "file_extension": ".py",
   "mimetype": "text/x-python",
   "name": "python",
   "nbconvert_exporter": "python",
   "pygments_lexer": "ipython3",
   "version": "3.11.8"
  }
 },
 "nbformat": 4,
 "nbformat_minor": 2
}
